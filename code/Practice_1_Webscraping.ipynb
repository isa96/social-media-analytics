{
 "cells": [
  {
   "cell_type": "markdown",
   "metadata": {},
   "source": [
    "# Simple Web Scraping - Beautiful Soup"
   ]
  },
  {
   "cell_type": "markdown",
   "metadata": {},
   "source": [
    "We could scrap some web pages by using beautiful soup. But, we need to define which element in html should we extract.\n",
    "\n",
    "Besides HTML, this library also can be used to parse XML.\n",
    "\n",
    "Visit this link for further information, https://www.crummy.com/software/BeautifulSoup/bs4/doc/"
   ]
  },
  {
   "cell_type": "code",
   "execution_count": 2,
   "metadata": {},
   "outputs": [
    {
     "name": "stdout",
     "output_type": "stream",
     "text": [
      "Requirement already satisfied: beautifulsoup4 in c:\\users\\triano nurhikmat\\anaconda3\\envs\\myenv\\lib\\site-packages (4.8.0)\n",
      "Requirement already satisfied: soupsieve>=1.2 in c:\\users\\triano nurhikmat\\anaconda3\\envs\\myenv\\lib\\site-packages (from beautifulsoup4) (1.9.3)\n"
     ]
    }
   ],
   "source": [
    "#install beautiful soup\n",
    "#!pip install beautifulsoup4"
   ]
  },
  {
   "cell_type": "code",
   "execution_count": 1,
   "metadata": {},
   "outputs": [],
   "source": [
    "#import the libraries\n",
    "from bs4 import BeautifulSoup as bs\n",
    "import pandas as pd\n",
    "import requests"
   ]
  },
  {
   "cell_type": "markdown",
   "metadata": {},
   "source": [
    "# Scraping only for one page"
   ]
  },
  {
   "cell_type": "code",
   "execution_count": 9,
   "metadata": {},
   "outputs": [
    {
     "name": "stdout",
     "output_type": "stream",
     "text": [
      "title:  5 Alasan Toyota Calya Begitu Sempurna di Mata Pemiliknya\n",
      "content:  ['Kata Calya diambil dari bahasa sansekerta yang berarti sempurna.', 'Keberadaan Calya juga melengkapi line-up produk MPV Toyota di Indonesia, mulai dari Low MPV oleh Avanza, Medium MPV diwakili Sienta, High MPV oelh Innova dan Voxy, serta Luxury MPV diwakili duo Alphard dan Vellfire.', 'Lantas, seberapa sempurna Toyota Calya?', '1. Desain modern dan berkelas', 'Kendaraan zaman now harus memiliki tampang yang memikat di jalan, dan dibuktikan oleh Calya dengan penampilan yang agresif dan modern di depan.', 'Siluet dinamis didapatkan dari dual line di bahu dan di pintu yang memanjang dari depan ke belakang.', 'Pelek alloy 14 inci dual-tone machining mengentalkan aspek sporty.', 'Sentuhan di belakang, lampu dengan L-shape terbalik menjadi signature Toyota dan spoiler atap minimalis mencitrakan mobil bertenaga.', 'Masuk ke dalam, desain dasbor mengambil tema Multi Layer Cockpit dengan cirikhas floating central dashboard.', 'Kesan mewah ditorehkan oleh kombinasi kelir hitam dan coklat bercorak premium.', 'Walau masuk segmen entry level, namun pemilik Calya tidak kehilangan sentuhan kemewahan dan kenyamanan di dalam.', '2. Kabin lega dan nyaman', 'Toyota Calya sudah menggunakan sasis monokok yang ringkas dan akomodatif untuk berbagai pola desain.', 'Alhasil, walau posturnya kompak, Calya sanggup membawa 7 orang penumpang dengan tawaran ruang kepala dilengkapi bubble head lining dan ruang kaki yang begitu memadai, bahkan hingga bangku baris ketiga tanpa perlu mengorbankan kapasitas bagasi.', 'Dan yang mengejutkan, kabin Calya terasa begitu nyaman dan membuai.', 'Sangat pas dipakai untuk berlibur atau mudik bersama seluruh anggota keluarga.', '3. Fitur berlimpah', 'Pertama di kelasnya, Calya dilengkapi power window di seluruh jendela samping.', 'Pertama di kelasnya, Calya memiliki eco indikator, fitur Easy Blinker, dan power outlet di baris bangku tengah.', 'Fitur lainnya adalah MID modern yang informatif, Electronic Power Steering (EPS), hingga rear air circulator untuk AC.', 'Dari sisi safety, Toyota Calya sudah dilengkapi dengan sabuk keselamatan 3 titik di seluruh bangku, dual airbags, dan rem ABS.', 'Untuk pengaman dari pencurian, remote kunci dilengkapi immobilizer.', 'Menjaga manuver parkir, terdapat sensor parkir.', 'Pun, stabiliser bar di sistem suspensi menjaga pengendalian mobil dan menjadi yang pertama di kelasnya.', '4. Mesin bertenaga dan irit bensin', 'Toyota menyematkan teknologi modern Dual VVT-i pada mesin berkoda 3NR-VE di Toyota Calya.', 'Unit 1.197 cc 4 silinder ini menghasilkan tenaga 88 PS pada 6.000 rpm dan torsi 108 Nm pada 4.200 rpm.', 'Aplikasi mesin 4 silinder menjanjikan aliran tenaga yang halus dan minim vibrasi via opsi transmisi manual 5-speed atau otomatis 4-speed.', 'Racikan yang pas pada sistem penggerak Calya membuatnya memiliki tenaga yang pas untuk segala kebutuhan dan tidak rakus dalam mengolah bensin.', '5. Harga terjangkau', 'Dengan segala kelebihan yang dimiliki, Toyota menjual Calya di rentang harga yang terjangkau untuk segmen entry buyer.', 'Bahkan sangat kompetitif jika dikaitkan dengan value yang disajikan.', 'Apalagi terbukti, selama 3 tahun keberadaannya, nilai jual kembali Calya terbilang menguntungkan berkat nilai depresiasi yang rendah.', 'Benefit tersebut memberikan peace of mind dalam hal kepemilikan Toyota Calya.']\n"
     ]
    }
   ],
   "source": [
    "doc = 'https://www.toyota.astra.co.id/toyota-connect/news/5-alasan-toyota-calya-begitu-sempurna-di-mata-pemiliknya'\n",
    "\n",
    "#define html parser from beautiful soup\n",
    "response = requests.get(doc, timeout = 10)\n",
    "soup = bs(response.content, \"html.parser\")\n",
    "\n",
    "#get the headline element\n",
    "title = soup.find('h1', attrs = {'class': 'headline'})\n",
    "#clean the headline\n",
    "title = title.text.strip()\n",
    "\n",
    "#get the content\n",
    "content = [element.text for element in soup.find_all('p', {'style': 'margin-left:0cm; margin-right:0cm'})]\n",
    "    \n",
    "print('title: ', title)\n",
    "print('content: ', content)"
   ]
  },
  {
   "cell_type": "markdown",
   "metadata": {},
   "source": [
    "# Let's scrape some pages from the website!"
   ]
  },
  {
   "cell_type": "code",
   "execution_count": 3,
   "metadata": {},
   "outputs": [
    {
     "name": "stdout",
     "output_type": "stream",
     "text": [
      "[{'id': 1, 'title': '5 Alasan Toyota Calya Begitu Sempurna di Mata Pemiliknya', 'content': 'Kata Calya diambil dari bahasa sansekerta yang berarti sempurna.Keberadaan Calya juga melengkapi line-up produk MPV Toyota di Indonesia, mulai dari Low MPV oleh Avanza, Medium MPV diwakili Sienta, High MPV oelh Innova dan Voxy, serta Luxury MPV diwakili duo Alphard dan Vellfire.Lantas, seberapa sempurna Toyota Calya?1. Desain modern dan berkelasKendaraan zaman now harus memiliki tampang yang memikat di jalan, dan dibuktikan oleh Calya dengan penampilan yang agresif dan modern di depan.Siluet dinamis didapatkan dari dual line di bahu dan di pintu yang memanjang dari depan ke belakang.Pelek alloy 14 inci dual-tone machining mengentalkan aspek sporty.Sentuhan di belakang, lampu dengan L-shape terbalik menjadi signature Toyota dan spoiler atap minimalis mencitrakan mobil bertenaga.Masuk ke dalam, desain dasbor mengambil tema Multi Layer Cockpit dengan cirikhas floating central dashboard.Kesan mewah ditorehkan oleh kombinasi kelir hitam dan coklat bercorak premium.Walau masuk segmen entry level, namun pemilik Calya tidak kehilangan sentuhan kemewahan dan kenyamanan di dalam.2. Kabin lega dan nyamanToyota Calya sudah menggunakan sasis monokok yang ringkas dan akomodatif untuk berbagai pola desain.Alhasil, walau posturnya kompak, Calya sanggup membawa 7 orang penumpang dengan tawaran ruang kepala dilengkapi bubble head lining dan ruang kaki yang begitu memadai, bahkan hingga bangku baris ketiga tanpa perlu mengorbankan kapasitas bagasi.Dan yang mengejutkan, kabin Calya terasa begitu nyaman dan membuai.Sangat pas dipakai untuk berlibur atau mudik bersama seluruh anggota keluarga.3. Fitur berlimpahPertama di kelasnya, Calya dilengkapi power window di seluruh jendela samping.Pertama di kelasnya, Calya memiliki eco indikator, fitur Easy Blinker, dan power outlet di baris bangku tengah.Fitur lainnya adalah MID modern yang informatif, Electronic Power Steering (EPS), hingga rear air circulator untuk AC.Dari sisi safety, Toyota Calya sudah dilengkapi dengan sabuk keselamatan 3 titik di seluruh bangku, dual airbags, dan rem ABS.Untuk pengaman dari pencurian, remote kunci dilengkapi immobilizer.Menjaga manuver parkir, terdapat sensor parkir.Pun, stabiliser bar di sistem suspensi menjaga pengendalian mobil dan menjadi yang pertama di kelasnya.4. Mesin bertenaga dan irit bensinToyota menyematkan teknologi modern Dual VVT-i pada mesin berkoda 3NR-VE di Toyota Calya.Unit 1.197 cc 4 silinder ini menghasilkan tenaga 88 PS pada 6.000 rpm dan torsi 108 Nm pada 4.200 rpm.Aplikasi mesin 4 silinder menjanjikan aliran tenaga yang halus dan minim vibrasi via opsi transmisi manual 5-speed atau otomatis 4-speed.Racikan yang pas pada sistem penggerak Calya membuatnya memiliki tenaga yang pas untuk segala kebutuhan dan tidak rakus dalam mengolah bensin.5. Harga terjangkauDengan segala kelebihan yang dimiliki, Toyota menjual Calya di rentang harga yang terjangkau untuk segmen entry buyer.Bahkan sangat kompetitif jika dikaitkan dengan value yang disajikan.Apalagi terbukti, selama 3 tahun keberadaannya, nilai jual kembali Calya terbilang menguntungkan berkat nilai depresiasi yang rendah.Benefit tersebut memberikan peace of mind dalam hal kepemilikan Toyota Calya.'}, {'id': 2, 'title': 'Sejarah Toyota GR Supra, Sang Legenda Sportcar yang Jadi Primadona di GIIAS 2019', 'content': 'PT Toyota-Astra Motor (TAM) memperkenalkan sportscar Toyota GR Supra di ajang GIIAS 2019 dan langsung menjadi pusat perhatian pengunjung.Semua berawal dari Detroit Auto Show 2019 beberapa waktu lalu yang menjadi saksi sejarah hadirnya generasi kelima dari sportscar legendaris Toyota Supra.Mungkin sebagian dari kamu sudah cukup mengenal kiprah Supra yang dimulai sejak tahun 1978 silam.Berawal Dari CelicaKehadiran generasi pertamanya masih menjadi satu keluarga dengan Celica yang dinamai Toyota Celica Supra atau Celica XX di negara asalnya.Setelah tiga tahun, Mk2 Celica XX dihadirkan dan kualitasnya mulai diakui oleh pasar global seperti di Eropa serta Inggris Raya.Selama prosesnya, kualitas Mk2 dibuktikan lewat gelar bergengsi yang didapat di trek balap seperti US Grand Prix 1979 dan British Saloon Car Championship.Tahun 1985 Toyota memutuskan supaya Supra berdiri sendiri dan keluar dari keluarga Celica.Dalam hal ini, Celica masih berdiri sebagai mobil Front Wheel Drive (FWD) dan Supra menerapkan Rear Wheel Drive (RWD), mengembangkan pilihan Line-Up Gran Tourer Toyota.Supra Semakin TerkenalTahun 1986 generasi Mk3 Supra akhirnya hadir dan menargetkan pasar seperti Amerika dan Jepang yang banyak memiliki car enthusiast.Selama prosesnya, terlihat banyak rival Supra seperti Mazda RX-7, Honda NSX hingga Nissan 300ZX, mulai menyaingi Mk3.Merespons hal tersebut, Toyota memutuskan untuk menghadirkan generasi keempat Supra di tahun 1993.Melalui kecerdikan Isao Tsuzuki selaku Guidance of Chief Engineer, filosofi “Less is more” menjadi denyut nadi Mk4.Hasilnya sangat mengesankan lantaran ia mampu memberi fungsi aerodinamis lebih baik dan berhasil memangkas bobot bodi hingga 100 Kg.Bahkan, sekelas mobil Porsche 911 Turbo bermesin 3.6 Liter tak bisa mengalahkan Toyota Supra Mk4 yang hanya menggunakan mesin 3.0 Liter JZ Series.Stop Produksi Tahun 2002Tahun berganti, Toyota Supra Mk4 akhirnya dirilis pada tahun 1993 dengan berbagai hal baru yang bahkan Porsche 911 Turbo tak bisa mengalahkannya.Di trek balap, Mk4 juga berhasil menorehkan berbagai keberhasilan seperti halnya Swiss Mountain Races, Pikes Peak, Le Mans 24 Hours dan All-Japan GT Championship (JGTC) dari tahun 1995 hingga 2003.Di antara kabar baik tersebut, ada hal buruk yang menghentikan langkah Supra yakni tidak bisa bersaing dalam aspek harga untuk mencapai target emisi gas buang yang ditentukan oleh banyak negara.Alhasil, mobil legendaris Toyota satu ini berhenti diproduksi pada tahun 2002 sehingga banyak penggemar Toyota Supra sangat kecewa pada keputusan tersebut.Butuh 17 tahun sebelum akhirnya Toyota kembali menghadirkan sang legendaris Toyota Supra kehadapan para pecinta mobil sport Jepang dengan merilis generasi ke-5 Toyota Supra di ajang Detroit Auto Show 2019.Dan mulai tahun ini, pemuja kecepatan di Indonesia juga dapat merasakan sensasi berkendara yang disajikan oleh Toyota GR Supra sebagai sportscar yang memiliki DNA sport panjang dan menggairahkan.'}, {'id': 3, 'title': 'Keren, Ternyata Youtuber Zach King Pecinta Toyota Prius', 'content': ''}, {'id': 4, 'title': '5 Kelebihan yang Bikin Toyota GR Supra Jadi Pusat Perhatian di GIIAS 2019', 'content': ''}]\n"
     ]
    }
   ],
   "source": [
    "html_docs = ['https://www.toyota.astra.co.id/toyota-connect/news/5-alasan-toyota-calya-begitu-sempurna-di-mata-pemiliknya',\n",
    "            'https://www.toyota.astra.co.id/toyota-connect/news/sejarah-toyota-gr-supra-sang-legenda-sportcar-yang-jadi-primadona-di-giias-2019',\n",
    "            'https://www.toyota.astra.co.id/toyota-connect/news/keren-ternyata-youtuber-zach-king-pecinta-toyota-prius',\n",
    "            'https://www.toyota.astra.co.id/toyota-connect/news/5-kelebihan-yang-bikin-toyota-gr-supra-jadi-pusat-perhatian-di-giias-2019']\n",
    "\n",
    "#extract documents and store in one array\n",
    "docs = []\n",
    "for index, document in enumerate(html_docs):\n",
    "    \n",
    "    #prepare a dictionary for each page\n",
    "    doc = {}\n",
    "    #define html parser from beautiful soup\n",
    "    response = requests.get(document, timeout = 10)\n",
    "    soup = bs(response.content, \"html.parser\")\n",
    "    \n",
    "    #clean the text\n",
    "    title = soup.find('h1', attrs = {'class': 'headline'})\n",
    "    doc['id'] = index + 1\n",
    "    doc['title'] = title.text.strip() #clean the text\n",
    "    \n",
    "    #store all the rows within p element\n",
    "    content = [element.text for element in soup.find_all('p', {'style': 'margin-left:0cm; margin-right:0cm'})]\n",
    "    #remove unwanted lines\n",
    "    doc['content'] = ''.join(element for element in content)\n",
    "    \n",
    "    docs.append(doc)\n",
    "    \n",
    "print(docs)"
   ]
  },
  {
   "cell_type": "markdown",
   "metadata": {},
   "source": [
    "# We cannot extract document id 3 and 4!\n",
    "What is happening on this part?\n",
    "Let's see the web structure of those pages (id 3 and 4)"
   ]
  },
  {
   "cell_type": "code",
   "execution_count": 15,
   "metadata": {
    "scrolled": true
   },
   "outputs": [
    {
     "name": "stdout",
     "output_type": "stream",
     "text": [
      "[{'id': 1, 'title': '5 Alasan Toyota Calya Begitu Sempurna di Mata Pemiliknya', 'content': 'Kata Calya diambil dari bahasa sansekerta yang berarti sempurna.Keberadaan Calya juga melengkapi line-up produk MPV Toyota di Indonesia, mulai dari Low MPV oleh Avanza, Medium MPV diwakili Sienta, High MPV oelh Innova dan Voxy, serta Luxury MPV diwakili duo Alphard dan Vellfire.Lantas, seberapa sempurna Toyota Calya?1. Desain modern dan berkelasKendaraan zaman now harus memiliki tampang yang memikat di jalan, dan dibuktikan oleh Calya dengan penampilan yang agresif dan modern di depan.Siluet dinamis didapatkan dari dual line di bahu dan di pintu yang memanjang dari depan ke belakang.Pelek alloy 14 inci dual-tone machining mengentalkan aspek sporty.Sentuhan di belakang, lampu dengan L-shape terbalik menjadi signature Toyota dan spoiler atap minimalis mencitrakan mobil bertenaga.Masuk ke dalam, desain dasbor mengambil tema Multi Layer Cockpit dengan cirikhas floating central dashboard.Kesan mewah ditorehkan oleh kombinasi kelir hitam dan coklat bercorak premium.Walau masuk segmen entry level, namun pemilik Calya tidak kehilangan sentuhan kemewahan dan kenyamanan di dalam.2. Kabin lega dan nyamanToyota Calya sudah menggunakan sasis monokok yang ringkas dan akomodatif untuk berbagai pola desain.Alhasil, walau posturnya kompak, Calya sanggup membawa 7 orang penumpang dengan tawaran ruang kepala dilengkapi bubble head lining dan ruang kaki yang begitu memadai, bahkan hingga bangku baris ketiga tanpa perlu mengorbankan kapasitas bagasi.Dan yang mengejutkan, kabin Calya terasa begitu nyaman dan membuai.Sangat pas dipakai untuk berlibur atau mudik bersama seluruh anggota keluarga.3. Fitur berlimpahPertama di kelasnya, Calya dilengkapi power window di seluruh jendela samping.Pertama di kelasnya, Calya memiliki eco indikator, fitur Easy Blinker, dan power outlet di baris bangku tengah.Fitur lainnya adalah MID modern yang informatif, Electronic Power Steering (EPS), hingga rear air circulator untuk AC.Dari sisi safety, Toyota Calya sudah dilengkapi dengan sabuk keselamatan 3 titik di seluruh bangku, dual airbags, dan rem ABS.Untuk pengaman dari pencurian, remote kunci dilengkapi immobilizer.Menjaga manuver parkir, terdapat sensor parkir.Pun, stabiliser bar di sistem suspensi menjaga pengendalian mobil dan menjadi yang pertama di kelasnya.4. Mesin bertenaga dan irit bensinToyota menyematkan teknologi modern Dual VVT-i pada mesin berkoda 3NR-VE di Toyota Calya.Unit 1.197 cc 4 silinder ini menghasilkan tenaga 88 PS pada 6.000 rpm dan torsi 108 Nm pada 4.200 rpm.Aplikasi mesin 4 silinder menjanjikan aliran tenaga yang halus dan minim vibrasi via opsi transmisi manual 5-speed atau otomatis 4-speed.Racikan yang pas pada sistem penggerak Calya membuatnya memiliki tenaga yang pas untuk segala kebutuhan dan tidak rakus dalam mengolah bensin.5. Harga terjangkauDengan segala kelebihan yang dimiliki, Toyota menjual Calya di rentang harga yang terjangkau untuk segmen entry buyer.Bahkan sangat kompetitif jika dikaitkan dengan value yang disajikan.Apalagi terbukti, selama 3 tahun keberadaannya, nilai jual kembali Calya terbilang menguntungkan berkat nilai depresiasi yang rendah.Benefit tersebut memberikan peace of mind dalam hal kepemilikan Toyota Calya. Please login or register to comment. There are no commentsCopyright. 2016. Toyota Astra Motor'}, {'id': 2, 'title': 'Sejarah Toyota GR Supra, Sang Legenda Sportcar yang Jadi Primadona di GIIAS 2019', 'content': 'PT Toyota-Astra Motor (TAM) memperkenalkan sportscar Toyota GR Supra di ajang GIIAS 2019 dan langsung menjadi pusat perhatian pengunjung.Mobil sport ini dikembangkan untuk memberikan excitement dalam pengalaman berkendara serta menghadirkan kembali ciri motorsport pada brand Toyota.Tak hanya mumpuni di lintasan pacu, mobil dengan tampilan coupe ini menjanjikan performa kelincahan dan kenyamanan saat berada di jalan raya.Semua berawal dari Detroit Auto Show 2019 beberapa waktu lalu yang menjadi saksi sejarah hadirnya generasi kelima dari sportscar legendaris Toyota Supra.Mungkin sebagian dari kamu sudah cukup mengenal kiprah Supra yang dimulai sejak tahun 1978 silam.Berawal Dari CelicaKehadiran generasi pertamanya masih menjadi satu keluarga dengan Celica yang dinamai Toyota Celica Supra atau Celica XX di negara asalnya.Setelah tiga tahun, Mk2 Celica XX dihadirkan dan kualitasnya mulai diakui oleh pasar global seperti di Eropa serta Inggris Raya.Selama prosesnya, kualitas Mk2 dibuktikan lewat gelar bergengsi yang didapat di trek balap seperti US Grand Prix 1979 dan British Saloon Car Championship.Tahun 1985 Toyota memutuskan supaya Supra berdiri sendiri dan keluar dari keluarga Celica.Dalam hal ini, Celica masih berdiri sebagai mobil Front Wheel Drive (FWD) dan Supra menerapkan Rear Wheel Drive (RWD), mengembangkan pilihan Line-Up Gran Tourer Toyota.Supra Semakin TerkenalTahun 1986 generasi Mk3 Supra akhirnya hadir dan menargetkan pasar seperti Amerika dan Jepang yang banyak memiliki car enthusiast.Selama prosesnya, terlihat banyak rival Supra seperti Mazda RX-7, Honda NSX hingga Nissan 300ZX, mulai menyaingi Mk3.Merespons hal tersebut, Toyota memutuskan untuk menghadirkan generasi keempat Supra di tahun 1993.Melalui kecerdikan Isao Tsuzuki selaku Guidance of Chief Engineer, filosofi “Less is more” menjadi denyut nadi Mk4.Hasilnya sangat mengesankan lantaran ia mampu memberi fungsi aerodinamis lebih baik dan berhasil memangkas bobot bodi hingga 100 Kg.Bahkan, sekelas mobil Porsche 911 Turbo bermesin 3.6 Liter tak bisa mengalahkan Toyota Supra Mk4 yang hanya menggunakan mesin 3.0 Liter JZ Series.Stop Produksi Tahun 2002Tahun berganti, Toyota Supra Mk4 akhirnya dirilis pada tahun 1993 dengan berbagai hal baru yang bahkan Porsche 911 Turbo tak bisa mengalahkannya.Di trek balap, Mk4 juga berhasil menorehkan berbagai keberhasilan seperti halnya Swiss Mountain Races, Pikes Peak, Le Mans 24 Hours dan All-Japan GT Championship (JGTC) dari tahun 1995 hingga 2003.Di antara kabar baik tersebut, ada hal buruk yang menghentikan langkah Supra yakni tidak bisa bersaing dalam aspek harga untuk mencapai target emisi gas buang yang ditentukan oleh banyak negara.Alhasil, mobil legendaris Toyota satu ini berhenti diproduksi pada tahun 2002 sehingga banyak penggemar Toyota Supra sangat kecewa pada keputusan tersebut.Butuh 17 tahun sebelum akhirnya Toyota kembali menghadirkan sang legendaris Toyota Supra kehadapan para pecinta mobil sport Jepang dengan merilis generasi ke-5 Toyota Supra di ajang Detroit Auto Show 2019.Dan mulai tahun ini, pemuja kecepatan di Indonesia juga dapat merasakan sensasi berkendara yang disajikan oleh Toyota GR Supra sebagai sportscar yang memiliki DNA sport panjang dan menggairahkan. Please login or register to comment. There are no commentsCopyright. 2016. Toyota Astra Motor'}, {'id': 3, 'title': 'Keren, Ternyata Youtuber Zach King Pecinta Toyota Prius', 'content': 'Mengusung tema “Beyond Lens”, Toyota Digifest 2019 digelar Sabtu (20/7/2019) di pameran GIIAS 2019 di hall 1B ICE, BSD City, Tangerang, Banten.Acara ini menghadirkan digital content creator internasional Zach King sebagai bintang tamu sekaligus memberikan workshop membuat konten digital.Zach King seorang youtuber internasional asal Los Angeles Amerika Serikat, yang juga merupakan content creator dengan lebih dari 3,9 juta subscribers dan 20,3 juta instagram followers.Pria ramah ini dikenal dengan ilusi digital yang banyak memukau netizen hingga menjadi viral di dunia maya.Ternyata, ilusionis dunia maya ini pecinta mobil ramah lingkungan Toyota Prius.\"Kakek saya memberi mobil Toyota Prius. Saya rasa tidak banyak mobil ini di Indonesia tapi di LA (Los Angeles) sangat populer,” cerita Zach, seperti dikutip dari Detik.com saat bertemu wartawan di acara Toyota Digifest 2019 di booth Toyota GIIAS 2019 (20/7/2019).“Saya mengendarai mobil itu seluruh hidup saya sejak saya bisa berkendara dari mulai 16 tahun dan karena saya punya Prius, video awal-awal saya pakai Prius,” jelasnya lebih lanjut.“Ada video saya lompat ke mobil atau menumpang. Setidaknya ada lusinan video dengan Prius dan sekarang kakak ipar saya yang punya Prius saya,\" ujarnya sambil menunjuk ke seorang pria di sisi kanannya.Di GIIAS 2019 sendiri, Toyota menghadirkan beberapa produk mobil hybrid, seperti Prius Gen-4 dan Prius PHEV yang bisa mengisi daya via colokan listrik.Termasuk Prius PHEV GR yang mendapatkan sentuhan Toyota Gazoo Racing, dan jawara lomba balap ketahanan dunia 2018, Toyota TS050 Hybrid.Kedua model terakhir sebagai pembuktian bahwa mobil elektrifikasi Toyota tidak hanya irit konsumsi bensin dan ramah lingkungan, tapi juga punya performa yang sangat menggairahkan.Ada pula display interaktif yang disajikan oleh 2 orang Toyota Pretty untuk menjelaskan mengenai prinsip kerja Toyota Prius Gen-4.Tidak ketinggalan, model hybrid lain yang sudah dijual di Indonesia yakni Toyota Camry Hybrid, Alphard Hybrid dan yang terbaru C-HR Hybrid. Please login or register to comment. There are no commentsCopyright. 2016. Toyota Astra Motor'}, {'id': 4, 'title': '5 Kelebihan yang Bikin Toyota GR Supra Jadi Pusat Perhatian di GIIAS 2019', 'content': 'Sportscar terbaru Toyota GR Supra langsung menjadi pusat perhatian pengunjung GAIKINDO Indonesia International Auto Show (GIIAS) 2019 yang berlangsung di ICE BSD City, Tangerang.Tak hanya mumpuni di lintasan pacu, mobil dengan tampilan coupe ini menjanjikan performa kelincahan dan kenyamanan saat berada di jalan raya.Toyota GR Supra dirancang untuk melahirkan sensasi yang mampu membangun emosi kegembiraan bagi penggunanya.Lantas, apa saja keunggulan GR Supra sehingga sportscar ini sangat layak digunakan oleh pecintanya di Indonesia?1. Pengembangan Sasis Dari rangkaian uji coba bertahun-tahun itu, engineer memutuskan untuk memperkecil rasio wheellbase menjadi 2.470 mm.Pusat gravitasinya yang rendah juga memberikan kestabilan saat berkendara, terutama saat menikung.Distribusi berat kendaraan dibuat seimbang atau 50:50 antara bagian depan dengan belakang dan ini menjadi elemen penting untuk menjaga performa GR Supra agar tidak limbung saat melintasi tikungan.2. Mesin PowerfulUntuk tenaga penggerak, engineer tetap mempertahan konfigurasi legendaris Supra dengan mesin 3.000 cc Turbo 6- silinder segaris, dilengkapi transmisi 8-speed Sport Automatic.Mesin 3.000 cc mampu menghasilkan tenaga maksimal 340 PS yang dicapai pada putaran mesin 5.000-6.500 rpm, dan torsi maksimal sekitar 500 Nm pada putaran 1.600-4.500 rpm.Guna lebih memperkuat driveability, gardan GR Supra dilengkapi teknologi Limited Slip Diffrential (LSD) yang dikontrol secara elekronik.Fitur ini mampu membuat mobil meluncur mulus saat di tikungan, dan segera bisa dipacu begitu berada pada track yang lurus.3. Desain Luar AerodinamisDesain akhir berhasil mengurangi hambatan udara dan secara efektif juga menghasilkan tekanan untuk meningkatkan handling dan stabilitas.Ini tampak dari bumper depan dan belakang yang terlihat lebih dinamis.Sementara bagian samping tampak lebih ramping sehingga velg Alloy Sporty Design dibalut ban dengan ukuran 19 inci terlihat lebih menonjol.Desain bagian atas hadir dengan double bubble yang berfungsi untuk mengalirkan udara ke spoiler belakang dan memberi tambahan down force.Spoiler belakang berbentuk duck-tail tampak terintegrasi dengan desain buritan, sehingga memberikan kesan kuat dan sporty.Ekterior GR Supra juga dilengkapi 6 lampu LED pada bagian depan dan juga pada lampu kombinasi di bagian belakang.4. Interior Nyaman dan SportyTata letak interior GR Supra dirancang untuk memberikan kesan alami sehingga memungkinkan pengemudi berkosentrasi penuh saat berkendara.Tampilan meter-cluster memberikan kemudahan dalam membaca informasi yang ditampilkan.Kabin juga dilengkapi sistem multimedia berlayar 8 inchi dengan teknologi layar sentuh dan didukung 10 speaker.5. Suspensi dan Drive ModeSuspensi menggunakan teknologi AVS (adaptive variable suspension) yang dapat mengontrol respon terhadap permukaan jalan.GR Supra juga dilengkapi dengan mode berkendara ‘Normal’ atau ‘Sport’ yang dapat disesuaikan dengan selera pengemudi. Please login or register to comment. There are no commentsCopyright. 2016. Toyota Astra Motor'}]\n"
     ]
    }
   ],
   "source": [
    "#extract documents and store in one array\n",
    "docs = []\n",
    "for index, document in enumerate(html_docs):\n",
    "    \n",
    "    #prepare a dictionary for each page\n",
    "    doc = {}\n",
    "    #define html parser from beautiful soup\n",
    "    response = requests.get(document, timeout = 10)\n",
    "    soup = bs(response.content, \"html.parser\")\n",
    "    \n",
    "    #get the title\n",
    "    title = soup.find('h1', attrs = {'class': 'headline'})\n",
    "    doc['id'] = index + 1\n",
    "    #clean the text\n",
    "    doc['title'] = title.text.strip()\n",
    "    \n",
    "    #store all the rows within p element\n",
    "    content = [element.text for element in soup.find_all('p')]\n",
    "    #remove unwanted lines\n",
    "    del content[0:2]\n",
    "    #merge all element in a list\n",
    "    doc['content'] = ''.join(element for element in content)\n",
    "    \n",
    "    docs.append(doc)\n",
    "    \n",
    "print(docs)"
   ]
  },
  {
   "cell_type": "markdown",
   "metadata": {},
   "source": [
    "Let's store it to dataframe\n",
    "In order to create better presentation of our data, we could store the data into dataframe."
   ]
  },
  {
   "cell_type": "code",
   "execution_count": 5,
   "metadata": {},
   "outputs": [
    {
     "data": {
      "text/html": [
       "<div>\n",
       "<style scoped>\n",
       "    .dataframe tbody tr th:only-of-type {\n",
       "        vertical-align: middle;\n",
       "    }\n",
       "\n",
       "    .dataframe tbody tr th {\n",
       "        vertical-align: top;\n",
       "    }\n",
       "\n",
       "    .dataframe thead th {\n",
       "        text-align: right;\n",
       "    }\n",
       "</style>\n",
       "<table border=\"1\" class=\"dataframe\">\n",
       "  <thead>\n",
       "    <tr style=\"text-align: right;\">\n",
       "      <th></th>\n",
       "      <th>id</th>\n",
       "      <th>title</th>\n",
       "      <th>content</th>\n",
       "    </tr>\n",
       "  </thead>\n",
       "  <tbody>\n",
       "    <tr>\n",
       "      <th>0</th>\n",
       "      <td>1</td>\n",
       "      <td>5 Alasan Toyota Calya Begitu Sempurna di Mata ...</td>\n",
       "      <td>Kata Calya diambil dari bahasa sansekerta yang...</td>\n",
       "    </tr>\n",
       "    <tr>\n",
       "      <th>1</th>\n",
       "      <td>2</td>\n",
       "      <td>Sejarah Toyota GR Supra, Sang Legenda Sportcar...</td>\n",
       "      <td>PT Toyota-Astra Motor (TAM) memperkenalkan spo...</td>\n",
       "    </tr>\n",
       "    <tr>\n",
       "      <th>2</th>\n",
       "      <td>3</td>\n",
       "      <td>Keren, Ternyata Youtuber Zach King Pecinta Toy...</td>\n",
       "      <td>Mengusung tema “Beyond Lens”, Toyota Digifest ...</td>\n",
       "    </tr>\n",
       "    <tr>\n",
       "      <th>3</th>\n",
       "      <td>4</td>\n",
       "      <td>5 Kelebihan yang Bikin Toyota GR Supra Jadi Pu...</td>\n",
       "      <td>Sportscar terbaru Toyota GR Supra langsung men...</td>\n",
       "    </tr>\n",
       "  </tbody>\n",
       "</table>\n",
       "</div>"
      ],
      "text/plain": [
       "   id                                              title  \\\n",
       "0   1  5 Alasan Toyota Calya Begitu Sempurna di Mata ...   \n",
       "1   2  Sejarah Toyota GR Supra, Sang Legenda Sportcar...   \n",
       "2   3  Keren, Ternyata Youtuber Zach King Pecinta Toy...   \n",
       "3   4  5 Kelebihan yang Bikin Toyota GR Supra Jadi Pu...   \n",
       "\n",
       "                                             content  \n",
       "0  Kata Calya diambil dari bahasa sansekerta yang...  \n",
       "1  PT Toyota-Astra Motor (TAM) memperkenalkan spo...  \n",
       "2  Mengusung tema “Beyond Lens”, Toyota Digifest ...  \n",
       "3  Sportscar terbaru Toyota GR Supra langsung men...  "
      ]
     },
     "execution_count": 5,
     "metadata": {},
     "output_type": "execute_result"
    }
   ],
   "source": [
    "#create a dataframe from the above list\n",
    "data = pd.DataFrame(docs, columns = ['id', 'title', 'content'])\n",
    "data"
   ]
  },
  {
   "cell_type": "code",
   "execution_count": 12,
   "metadata": {},
   "outputs": [],
   "source": [
    "doc = 'https://www.toyota.astra.co.id/toyota-connect/news/5-alasan-toyota-calya-begitu-sempurna-di-mata-pemiliknya'\n",
    "\n",
    "#define html parser from beautiful soup\n",
    "response = requests.get(doc, timeout = 10)\n",
    "soup = bs(response.content, \"html.parser\")\n",
    "\n",
    "#get date\n",
    "date = soup.find('span', attrs={'class':'date'})\n",
    "date = date.text.strip()\n",
    "#get the headline element\n",
    "title = soup.find('h1', attrs = {'class': 'headline'})\n",
    "#clean the headline\n",
    "title = title.text.strip()\n",
    "\n",
    "#get the content\n",
    "#content = [element.text for element in soup.find_all('p', {'style': 'margin-left:0cm; margin-right:0cm'})]\n",
    "df = pd.DataFrame()"
   ]
  },
  {
   "cell_type": "code",
   "execution_count": 13,
   "metadata": {},
   "outputs": [
    {
     "name": "stdout",
     "output_type": "stream",
     "text": [
      "26 Agustus 2019\n"
     ]
    }
   ],
   "source": []
  },
  {
   "cell_type": "code",
   "execution_count": null,
   "metadata": {},
   "outputs": [],
   "source": []
  }
 ],
 "metadata": {
  "kernelspec": {
   "display_name": "Python 3",
   "language": "python",
   "name": "python3"
  },
  "language_info": {
   "codemirror_mode": {
    "name": "ipython",
    "version": 3
   },
   "file_extension": ".py",
   "mimetype": "text/x-python",
   "name": "python",
   "nbconvert_exporter": "python",
   "pygments_lexer": "ipython3",
   "version": "3.7.3"
  }
 },
 "nbformat": 4,
 "nbformat_minor": 2
}
